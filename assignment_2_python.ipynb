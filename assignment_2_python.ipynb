{
 "cells": [
  {
   "cell_type": "code",
   "execution_count": 1,
   "id": "742aa689",
   "metadata": {},
   "outputs": [
    {
     "name": "stdout",
     "output_type": "stream",
     "text": [
      "INPUT A NUMBER:- 25\n",
      "625\n",
      "INPUT A NUMBER:- 600\n",
      "625\n"
     ]
    }
   ],
   "source": [
    "# 1. Write a python program to sum of the first n positive integers\n",
    "\n",
    "a = int(input(\"INPUT A NUMBER:- \"))\n",
    "b = (a * 25)\n",
    "print (b)\n",
    "\n",
    "a_1 = int(input(\"INPUT A NUMBER:- \"))\n",
    "b_1 = (a_1 + 25)\n",
    "print (b_1)"
   ]
  },
  {
   "cell_type": "code",
   "execution_count": 2,
   "id": "20d01f79",
   "metadata": {},
   "outputs": [
    {
     "name": "stdout",
     "output_type": "stream",
     "text": [
      "7\n",
      "5\n",
      "2\n"
     ]
    }
   ],
   "source": [
    "# 2. Write a Python program to count occurrences of a substring in a string\n",
    "\n",
    "ab = \"sarthak\"\n",
    "cd = \"patel\"\n",
    "print(len(ab))\n",
    "print(len(cd))\n",
    "for e in range( len(ab) - len(cd) + 1):\n",
    "    if ab[e:e + len(cd)] == cd:\n",
    "        cnt = cnt + 1\n",
    "print(e)"
   ]
  },
  {
   "cell_type": "code",
   "execution_count": 3,
   "id": "164cb688",
   "metadata": {},
   "outputs": [
    {
     "name": "stdout",
     "output_type": "stream",
     "text": [
      "1\n",
      "2\n"
     ]
    }
   ],
   "source": [
    "# 3. Write a Python program to count the occurrences of each word in a given sentence.\n",
    "\n",
    "sp = \"my name is sarthak. my surname is patel\"\n",
    "ps = \"sarthak\"\n",
    "s_1 =\"my\"\n",
    "words = sp.split()\n",
    "count = 0\n",
    "for name in words:\n",
    "    if name == ps:\n",
    "        count += 1\n",
    "        print(count)\n",
    "        \n",
    "words_1 = sp.split()\n",
    "count_1 = 0\n",
    "for name in words:\n",
    "    if name == s_1:\n",
    "        count_1 += 1\n",
    "        print(count_1)"
   ]
  },
  {
   "cell_type": "code",
   "execution_count": 4,
   "id": "c0ae00ad",
   "metadata": {},
   "outputs": [
    {
     "name": "stdout",
     "output_type": "stream",
     "text": [
      "before swap : sarthak / patel\n",
      "after swap : patehak / sartel\n"
     ]
    }
   ],
   "source": [
    "# 4. Write a Python program to get a single string from two given strings, separated by a space and swap the firsttwo characters of each string.\n",
    "\n",
    "fn = \"sarthak\"\n",
    "lm = \"patel\"\n",
    "print(\"before swap :\",fn,\"/\",lm)\n",
    "fn1 = lm[:4] + fn[4:]\n",
    "lm1 = fn[:3] + lm[2:]\n",
    "print(\"after swap :\",fn1,\"/\",lm1)"
   ]
  },
  {
   "cell_type": "code",
   "execution_count": 6,
   "id": "0756163b",
   "metadata": {},
   "outputs": [
    {
     "name": "stdout",
     "output_type": "stream",
     "text": [
      "enter a string:-playing\n",
      "playingly\n"
     ]
    }
   ],
   "source": [
    "# 5. Write a Python program to add 'ing' at the end of a given string (length should be at least 3). If the given string already ends with 'ing' then add 'ly' instead If the string length of the given string is less than 3, leave it unchanged\n",
    "\n",
    "s = input(\"enter a string:-\")\n",
    "p1 = s[-3:]\n",
    "if(s[-3:] ==\"ing\"):\n",
    "    p1 = s + \"ly\"\n",
    "elif(len(p1) <3):\n",
    "        print(p)\n",
    "else:\n",
    "    p1 = a + \"ing\"\n",
    "print(p1)"
   ]
  },
  {
   "cell_type": "code",
   "execution_count": 7,
   "id": "de8afaf2",
   "metadata": {},
   "outputs": [
    {
     "name": "stdout",
     "output_type": "stream",
     "text": [
      "the substring is good\n",
      "the substring is poor\n"
     ]
    }
   ],
   "source": [
    "# 6. Write a Python program to find the first appearance of the substring 'not' and 'poor' from a given string, if 'not' follows the 'poor', replace the whole 'not'...'poor' substring with 'good'. Return the resulting string\n",
    "\n",
    "np = \"the substring is not that poor\"\n",
    "yp = \"the substring is poor\"\n",
    "pn = np.find(\"not\")\n",
    "py = np.find(\"poor\")\n",
    "if py > pn and pn>0 and py>0:\n",
    "    np = np.replace(np[pn:(py+4)], \"good\")\n",
    "print(np)\n",
    "print(yp)"
   ]
  },
  {
   "cell_type": "code",
   "execution_count": 8,
   "id": "110c3c54",
   "metadata": {},
   "outputs": [
    {
     "name": "stdout",
     "output_type": "stream",
     "text": [
      "GCD of 98 and 56 is 14\n",
      "GCD of 20 and 28 is 4\n"
     ]
    }
   ],
   "source": [
    "# 7. Program to find Greatest Common Divisor of two numbers. For example, the GCD of 20 and 28 is 4 and GCD of 98 and 56 is 14.\n",
    "\n",
    "\n",
    "def gcd(a, b):\n",
    "    result = min(a, b)\n",
    " \n",
    "    while result:\n",
    "        if a % result == 0 and b % result == 0:\n",
    "            break\n",
    "        result -= 1\n",
    "    return result\n",
    " \n",
    "a = 98\n",
    "b = 56\n",
    " \n",
    "print(f\"GCD of {a} and {b} is {gcd(a, b)}\")\n",
    "\n",
    "def gcd(s2, s3):\n",
    "    result = min(s2, s3)\n",
    " \n",
    "    while result:\n",
    "        if s2 % result == 0 and s3 % result == 0:\n",
    "            break\n",
    "        result -= 1\n",
    "    return result\n",
    " \n",
    "s2 = 20\n",
    "s3 = 28\n",
    " \n",
    "print(f\"GCD of {s2} and {s3} is {gcd(s2, s3)}\")"
   ]
  },
  {
   "cell_type": "code",
   "execution_count": 9,
   "id": "59f5697d",
   "metadata": {},
   "outputs": [
    {
     "name": "stdout",
     "output_type": "stream",
     "text": [
      "The original list : ['sarthak', 14, 12, 1999, 'age', 23]\n",
      "Is sublist present in list ? : False\n"
     ]
    }
   ],
   "source": [
    "# 8. Write a Python program to check whether a list contains a sublist.\n",
    "\n",
    "\n",
    "the_list = [\"sarthak\", 14, 12, 1999, \"age\", 23]\n",
    " \n",
    "print(\"The original list : \" + str(the_list))\n",
    " \n",
    "sublist = [\"learn\", 3,\"python\"]\n",
    "\n",
    "res = False\n",
    "for idx in range(len(the_list) - len(sublist) + 1):\n",
    "    if the_list[idx: idx + len(sublist)] == sublist:\n",
    "        res = True\n",
    "        break\n",
    "\n",
    "print(\"Is sublist present in list ? : \" + str(res))"
   ]
  },
  {
   "cell_type": "code",
   "execution_count": 10,
   "id": "55faa8b9",
   "metadata": {},
   "outputs": [
    {
     "name": "stdout",
     "output_type": "stream",
     "text": [
      "Enter the number of elements: 4\n",
      "Enter the elements: 20\n",
      "Enter the elements: 15\n",
      "Enter the elements: 5\n",
      "Enter the elements: 1\n",
      "The sorted list:  [1, 5, 15, 20]\n",
      "The second smallest value of this list:  5\n"
     ]
    }
   ],
   "source": [
    "# 9. Write a Python program to find the second smallest number in a list. \n",
    "\n",
    "small = [] \n",
    "sn = int(input(\"Enter the number of elements: \"))\n",
    "for i in range(1, sn+1): \n",
    "    elem = int(input(\"Enter the elements: \")) \n",
    "    small.append(elem) \n",
    "small.sort() \n",
    "print(\"The sorted list: \", small) \n",
    "print(\"The second smallest value of this list: \",small[1])"
   ]
  },
  {
   "cell_type": "code",
   "execution_count": 11,
   "id": "e5cd6ac3",
   "metadata": {},
   "outputs": [
    {
     "name": "stdout",
     "output_type": "stream",
     "text": [
      "[10, 100, 1000, 10000, 100000, 1000000]\n",
      "[100000, 1000000, 100, 1000, 10, 10000]\n",
      "<class 'list'>\n",
      "[10, 100, 1000, 10000, 100000, 1000000]\n"
     ]
    }
   ],
   "source": [
    "# 10. Write a Python program to get unique values from a list\n",
    "\n",
    "ulist = [10,100,1000,10000,100000,1000000]\n",
    "print(ulist)\n",
    "uli=set(ulist)\n",
    "uli\n",
    "ulist2=list(uli)\n",
    "print(ulist2)\n",
    "print(type(ulist2))\n",
    "ulist2.sort()\n",
    "print(ulist2)"
   ]
  },
  {
   "cell_type": "code",
   "execution_count": 12,
   "id": "5b66833b",
   "metadata": {},
   "outputs": [
    {
     "name": "stdout",
     "output_type": "stream",
     "text": [
      "[(10, 30, 50), (20, 40, 60)]\n"
     ]
    }
   ],
   "source": [
    "# 11. Write a Python program to unzip a list of tuples into individual lists.\n",
    "\n",
    "tuple = [(10,20),(30,40),(50,60)]\n",
    "print(list(zip(*tuple)))"
   ]
  },
  {
   "cell_type": "code",
   "execution_count": 13,
   "id": "bf5c8ae3",
   "metadata": {},
   "outputs": [
    {
     "name": "stdout",
     "output_type": "stream",
     "text": [
      "{'s': [1, 2, 3], 'h': [1, 2], 'p': [1]}\n"
     ]
    }
   ],
   "source": [
    "# 12. Write a Python program to convert a list of tuples into a dictionary\n",
    "\n",
    "value = [(\"s\", 1),(\"s\", 2),(\"s\", 3),(\"h\", 1),(\"h\", 2),(\"p\", 1)]\n",
    "dictt = {}\n",
    "for y,z in value:\n",
    "    dictt.setdefault(y, []).append(z)\n",
    "print(dictt)"
   ]
  },
  {
   "cell_type": "code",
   "execution_count": 14,
   "id": "a506d766",
   "metadata": {},
   "outputs": [
    {
     "name": "stdout",
     "output_type": "stream",
     "text": [
      "Original dictionary :  {1: 2, 3: 4, 4: 3, 2: 1, 0: 0}\n",
      "Dictionary in ascending order by value :  [(0, 0), (2, 1), (1, 2), (4, 3), (3, 4)]\n",
      "Dictionary in descending order by value :  {3: 4, 4: 3, 1: 2, 2: 1, 0: 0}\n"
     ]
    }
   ],
   "source": [
    "# 13. Write a Python program to sort a dictionary (ascending /descending) by value.\n",
    "\n",
    "import operator\n",
    "sr = {1: 2, 3: 4, 4: 3, 2: 1, 0: 0}\n",
    "print('Original dictionary : ',sr)\n",
    "sorted_sr = sorted(sr.items(), key=operator.itemgetter(1))\n",
    "print('Dictionary in ascending order by value : ',sorted_sr)\n",
    "sorted_sr = dict( sorted(sr.items(), key=operator.itemgetter(1),reverse=True))\n",
    "print('Dictionary in descending order by value : ',sorted_sr)"
   ]
  },
  {
   "cell_type": "code",
   "execution_count": 15,
   "id": "b541447e",
   "metadata": {},
   "outputs": [
    {
     "name": "stdout",
     "output_type": "stream",
     "text": [
      "Dictionary with 3 highest values:\n",
      "Keys: Values\n",
      "r  : 21  \n",
      "s  : 6  \n",
      "u  : 5  \n"
     ]
    }
   ],
   "source": [
    "# 14. Write a Python program to find the highest 3 values in a dictionary.\n",
    "\n",
    "from collections import Counter\n",
    "my_dict_collec = {'s': 3, 'a': 4, 's': 6, 'u': 5, 'r': 21}\n",
    "guj = Counter(my_dict_collec)\n",
    "high = guj.most_common(3)\n",
    "print(\"Dictionary with 3 highest values:\")\n",
    "print(\"Keys: Values\")\n",
    "for i in high:\n",
    "   print(i[0],\" :\",i[1],\" \")"
   ]
  },
  {
   "cell_type": "code",
   "execution_count": 16,
   "id": "2899f7f6",
   "metadata": {},
   "outputs": [
    {
     "name": "stdout",
     "output_type": "stream",
     "text": [
      "0 1 1 2 3 5 8 "
     ]
    }
   ],
   "source": [
    "# 15. Given a number n, write a python program to make and print the list of Fibonacci series up to n.\n",
    "# Input : n=7\n",
    "# Hint : first 7 numbers in the series\n",
    "# Expected output :\n",
    "# First few Fibonacci numbers are 0, 1, 1, 2, 3, 5, 8, 13\n",
    "\n",
    "def fibonacci_numbers(num):\n",
    "    if num == 0:\n",
    "        return 0\n",
    "    elif num == 1:\n",
    "        return 1\n",
    "    else:\n",
    "        return fibonacci_numbers(num-2)+fibonacci_numbers(num-1)\n",
    " \n",
    " \n",
    "n = 7\n",
    "for i in range(0, n):\n",
    "    print(fibonacci_numbers(i), end=\" \")"
   ]
  },
  {
   "cell_type": "code",
   "execution_count": 17,
   "id": "5cbcb954",
   "metadata": {},
   "outputs": [
    {
     "name": "stdout",
     "output_type": "stream",
     "text": [
      "{1: 5, 5: 2, 3: 3, 4: 3, 2: 4}\n"
     ]
    }
   ],
   "source": [
    "# 16. Counting the frequencies in a list using a dictionary in Python.\n",
    "# Input : [1, 1, 1, 5, 5, 3, 1, 3, 3, 1,4, 4, 4, 2, 2, 2, 2]\n",
    "# Expected output : 1 : 5 , 2 : 4 , 3 : 3 , 4 : 3 , 5 : 2\n",
    "\n",
    "def CountFreq(li):\n",
    "    freq = {}\n",
    "    for item in li:\n",
    "        if (item in freq):\n",
    "            freq[item] += 1\n",
    "        else:\n",
    "            freq[item] = 1\n",
    "    print(freq) \n",
    "li =[1, 1, 1, 5, 5, 3, 1, 3, 3, 1,4, 4, 4, 2, 2, 2, 2]\n",
    "CountFreq(li)"
   ]
  },
  {
   "cell_type": "code",
   "execution_count": 18,
   "id": "5f294e1f",
   "metadata": {},
   "outputs": [
    {
     "name": "stdout",
     "output_type": "stream",
     "text": [
      "Enter the size of list: 4\n",
      "Enter 4 Elements for the list: 1\n",
      "31\n",
      "4\n",
      "7\n",
      "\n",
      "Sum of Even Numbers = 4\n",
      "Sum of Odd Numbers = 39\n"
     ]
    }
   ],
   "source": [
    "# 17. Write a python program using function to find the sum of odd series and even series\n",
    "# Odd series: 12/ 1! + 32/ 3! + 52/ 5!+……n\n",
    "# Even series: 22/ 2! + 42/ 4! + 62/ 6!+……n\n",
    "\n",
    "nums = []\n",
    "sumeven = 0\n",
    "counteven = 0\n",
    "sumodd = 0\n",
    "countodd = 0\n",
    "\n",
    "print(\"Enter the size of list: \", end=\"\")\n",
    "tot = int(input())\n",
    "print(\"Enter\", tot, \"Elements for the list: \", end=\"\")\n",
    "for i in range(tot):\n",
    "    nums.append(int(input()))\n",
    "    if nums[i]%2 == 0:\n",
    "        sumeven = sumeven + nums[i]\n",
    "        counteven = counteven + 1\n",
    "    else:\n",
    "        sumodd = sumodd + nums[i]\n",
    "        countodd = countodd + 1\n",
    "\n",
    "if counteven==0:\n",
    "    print(\"\\nEven number is not found in this list!\")\n",
    "else:\n",
    "    print(\"\\nSum of Even Numbers =\", sumeven)\n",
    "if countodd==0:\n",
    "    print(\"Odd number is not found in this list!\")\n",
    "else:\n",
    "    print(\"Sum of Odd Numbers =\", sumodd)"
   ]
  },
  {
   "cell_type": "code",
   "execution_count": 19,
   "id": "9615a6ab",
   "metadata": {},
   "outputs": [
    {
     "name": "stdout",
     "output_type": "stream",
     "text": [
      "The factorial of 7 is 5040\n"
     ]
    }
   ],
   "source": [
    "# 18. Python Program to Find Factorial of Number Using Recursion\n",
    "\n",
    "def recur_factorial(n):\n",
    "    if n == 1:\n",
    "        return n\n",
    "    else:\n",
    "        return n*recur_factorial(n-1)\n",
    "\n",
    "num = 7\n",
    "\n",
    "# check if the number is negative\n",
    "if num < 0:\n",
    "    print(\"Sorry, factorial does not exist for negative numbers\")\n",
    "elif num == 0:\n",
    "    print(\"The factorial of 0 is 1\")\n",
    "else:\n",
    "    print(\"The factorial of\", num, \"is\", recur_factorial(num))"
   ]
  },
  {
   "cell_type": "code",
   "execution_count": 20,
   "id": "170730cd",
   "metadata": {},
   "outputs": [
    {
     "name": "stdout",
     "output_type": "stream",
     "text": [
      "[1, 2, 3, 4, 5]\n"
     ]
    }
   ],
   "source": [
    "# 19. Write a Python function that takes a list and returns a new list with unique elements of the first list.\n",
    "\n",
    "def f(l):\n",
    "\n",
    "    x = []\n",
    "\n",
    "    for a in l:\n",
    "\n",
    "        if a not in x:\n",
    "\n",
    "            x.append(a)\n",
    "\n",
    "    return x\n",
    "\n",
    "print(f([1,2,3,3,3,3,4,5]))"
   ]
  },
  {
   "cell_type": "code",
   "execution_count": null,
   "id": "c1d9a780",
   "metadata": {},
   "outputs": [],
   "source": []
  }
 ],
 "metadata": {
  "kernelspec": {
   "display_name": "Python 3 (ipykernel)",
   "language": "python",
   "name": "python3"
  },
  "language_info": {
   "codemirror_mode": {
    "name": "ipython",
    "version": 3
   },
   "file_extension": ".py",
   "mimetype": "text/x-python",
   "name": "python",
   "nbconvert_exporter": "python",
   "pygments_lexer": "ipython3",
   "version": "3.9.13"
  }
 },
 "nbformat": 4,
 "nbformat_minor": 5
}
